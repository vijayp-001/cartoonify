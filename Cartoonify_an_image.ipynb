{
  "nbformat": 4,
  "nbformat_minor": 0,
  "metadata": {
    "colab": {
      "provenance": []
    },
    "kernelspec": {
      "name": "python3",
      "display_name": "Python 3"
    },
    "language_info": {
      "name": "python"
    }
  },
  "cells": [
    {
      "cell_type": "code",
      "source": [
        "import cv2\n",
        "import scipy\n",
        "from scipy import stats\n",
        "import numpy as np\n",
        "from collections import defaultdict\n",
        "\n",
        "\n",
        "def update_c(C,hist):\n",
        "    while True:\n",
        "        groups=defaultdict(list)\n",
        "\n",
        "        for i in range(len(hist)):\n",
        "            if(hist[i] == 0):\n",
        "                continue\n",
        "            d=np.abs(C-i)\n",
        "            index=np.argmin(d)\n",
        "            groups[index].append(i)\n",
        "\n",
        "        new_C=np.array(C)\n",
        "        for i,indice in groups.items():\n",
        "            if(np.sum(hist[indice])==0):\n",
        "                continue\n",
        "            new_C[i]=int(np.sum(indice*hist[indice])/np.sum(hist[indice]))\n",
        "\n",
        "        if(np.sum(new_C-C)==0):\n",
        "            break\n",
        "        C=new_C\n",
        "\n",
        "    return C,groups\n",
        "\n",
        "# Calculates K Means clustering\n",
        "def K_histogram(hist):\n",
        "\n",
        "    alpha=0.001\n",
        "    N=80\n",
        "    C=np.array([128])\n",
        "\n",
        "    while True:\n",
        "        C,groups=update_c(C,hist)\n",
        "\n",
        "        new_C=set()\n",
        "        for i,indice in groups.items():\n",
        "            if(len(indice)<N):\n",
        "                new_C.add(C[i])\n",
        "                continue\n",
        "\n",
        "            z, pval=stats.normaltest(hist[indice])\n",
        "            if(pval<alpha):\n",
        "                left=0 if i==0 else C[i-1]\n",
        "                right=len(hist)-1 if i ==len(C)-1 else C[i+1]\n",
        "                delta=right-left\n",
        "                if(delta >=3):\n",
        "                    c1=(C[i]+left)/2\n",
        "                    c2=(C[i]+right)/2\n",
        "                    new_C.add(c1)\n",
        "                    new_C.add(c2)\n",
        "                else:\n",
        "                    new_C.add(C[i])\n",
        "            else:\n",
        "                new_C.add(C[i])\n",
        "        if(len(new_C)==len(C)):\n",
        "            break\n",
        "        else:\n",
        "            C=np.array(sorted(new_C))\n",
        "    return C\n",
        "\n",
        "\n",
        "def caart(img):\n",
        "\n",
        "    kernel=np.ones((2,2), np.uint8)\n",
        "    output=np.array(img)\n",
        "    x,y,c=output.shape\n",
        "    for i in range(c):\n",
        "        output[:,:,i]=cv2.bilateralFilter(output[:,:,i],5,150,150)\n",
        "\n",
        "    edge=cv2.Canny(output, 100, 200)\n",
        "    output=cv2.cvtColor(output,cv2.COLOR_RGB2HSV)\n",
        "\n",
        "    hists = []\n",
        "\n",
        "    hist,_=np.histogram(output[:,:,0],bins =np.arange(180+1))\n",
        "    hists.append(hist)\n",
        "    hist,_=np.histogram(output[:,:,1],bins =np.arange(256+1))\n",
        "    hists.append(hist)\n",
        "    hist,_=np.histogram(output[:,:,2],bins =np.arange(256+1))\n",
        "    hists.append(hist)\n",
        "\n",
        "\n",
        "    C=[]\n",
        "    for h in hists:\n",
        "        C.append(K_histogram(h))\n",
        "    #print(\"centroids: {0}\".format(C))\n",
        "\n",
        "    output=output.reshape((-1,c))\n",
        "    for i in range(c):\n",
        "        channel=output[:,i]\n",
        "        index=np.argmin(np.abs(channel[:, np.newaxis] - C[i]), axis=1)\n",
        "        output[:,i]=C[i][index]\n",
        "    output=output.reshape((x,y,c))\n",
        "    output=cv2.cvtColor(output, cv2.COLOR_HSV2RGB)\n",
        "\n",
        "    contours,_=cv2.findContours(edge,cv2.RETR_EXTERNAL, cv2.CHAIN_APPROX_NONE)\n",
        "    cv2.drawContours(output,contours,-1,0,thickness=1)\n",
        "    #cartoon = cv2.bitwise_and(output, output, mask=contours)\n",
        "    for i in range(3):\n",
        "        output[:,:,i]=cv2.erode(output[:,:,i], kernel, iterations=1)\n",
        "    #Laplacian = cv2.Laplacian(output,cv2.CV_8U, ksize=11)\n",
        "    #output=output-Laplacian\n",
        "    return output"
      ],
      "metadata": {
        "id": "1eYWQ2GRdjz3"
      },
      "execution_count": 8,
      "outputs": []
    },
    {
      "cell_type": "code",
      "source": [
        "output=caart(cv2.imread(\"/content/house.jpeg\"))\n"
      ],
      "metadata": {
        "id": "8sVemRKTiMo4"
      },
      "execution_count": 14,
      "outputs": []
    },
    {
      "cell_type": "code",
      "source": [
        "cv2.imwrite(\"housecartoon.jpg\", output)"
      ],
      "metadata": {
        "colab": {
          "base_uri": "https://localhost:8080/"
        },
        "id": "7ULP5pYliqbN",
        "outputId": "9d880932-e173-4168-ecfd-3e9de19b07a2"
      },
      "execution_count": 18,
      "outputs": [
        {
          "output_type": "execute_result",
          "data": {
            "text/plain": [
              "True"
            ]
          },
          "metadata": {},
          "execution_count": 18
        }
      ]
    }
  ]
}